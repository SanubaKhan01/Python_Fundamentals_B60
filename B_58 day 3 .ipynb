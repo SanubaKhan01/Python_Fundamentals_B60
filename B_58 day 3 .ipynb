{
 "cells": [
  {
   "cell_type": "code",
   "execution_count": null,
   "id": "7f355c13",
   "metadata": {},
   "outputs": [],
   "source": [
    "continuation to strings: "
   ]
  },
  {
   "cell_type": "code",
   "execution_count": null,
   "id": "8d4a2aaf",
   "metadata": {},
   "outputs": [],
   "source": []
  },
  {
   "cell_type": "code",
   "execution_count": 1,
   "id": "ecc1ec0a",
   "metadata": {},
   "outputs": [
    {
     "name": "stdout",
     "output_type": "stream",
     "text": [
      "sanuba khan\n"
     ]
    }
   ],
   "source": [
    "full_name = 'sanuba khan'\n",
    "print (full_name)\n"
   ]
  },
  {
   "cell_type": "code",
   "execution_count": 2,
   "id": "5663c93f",
   "metadata": {},
   "outputs": [
    {
     "name": "stdout",
     "output_type": "stream",
     "text": [
      "Sanuba Khan\n"
     ]
    }
   ],
   "source": [
    "print(full_name.title())"
   ]
  },
  {
   "cell_type": "code",
   "execution_count": 3,
   "id": "c6116343",
   "metadata": {},
   "outputs": [
    {
     "name": "stdout",
     "output_type": "stream",
     "text": [
      "SANUBA KHAN\n"
     ]
    }
   ],
   "source": [
    "print(full_name.upper())"
   ]
  },
  {
   "cell_type": "code",
   "execution_count": 4,
   "id": "9499c931",
   "metadata": {},
   "outputs": [
    {
     "name": "stdout",
     "output_type": "stream",
     "text": [
      "sanuba khan\n"
     ]
    }
   ],
   "source": [
    "print(full_name.lower())"
   ]
  },
  {
   "cell_type": "code",
   "execution_count": null,
   "id": "d6bdc54f",
   "metadata": {},
   "outputs": [],
   "source": [
    "# general syntax of f strings"
   ]
  },
  {
   "cell_type": "code",
   "execution_count": null,
   "id": "3e00e2ee",
   "metadata": {},
   "outputs": [],
   "source": [
    "f\" custom words {placeholder1} {placeholder2} {placeholder3} ....{placeholdern}\""
   ]
  },
  {
   "cell_type": "code",
   "execution_count": null,
   "id": "ee372bff",
   "metadata": {},
   "outputs": [],
   "source": []
  },
  {
   "cell_type": "code",
   "execution_count": 6,
   "id": "191ffecd",
   "metadata": {},
   "outputs": [],
   "source": [
    "first_name = 'sanuba'\n",
    "last_name = 'khan'"
   ]
  },
  {
   "cell_type": "code",
   "execution_count": 9,
   "id": "1cc675ae",
   "metadata": {},
   "outputs": [
    {
     "name": "stdout",
     "output_type": "stream",
     "text": [
      "sanuba khan\n"
     ]
    }
   ],
   "source": [
    "full_name = f\"{first_name} {last_name}\"\n",
    "print (full_name)"
   ]
  },
  {
   "cell_type": "code",
   "execution_count": 11,
   "id": "1d320b34",
   "metadata": {},
   "outputs": [
    {
     "name": "stdout",
     "output_type": "stream",
     "text": [
      "Sanuba Khan\n"
     ]
    }
   ],
   "source": [
    "print(full_name.title())"
   ]
  },
  {
   "cell_type": "code",
   "execution_count": 12,
   "id": "a142ad1e",
   "metadata": {},
   "outputs": [
    {
     "name": "stdout",
     "output_type": "stream",
     "text": [
      "SANUBA KHAN\n"
     ]
    }
   ],
   "source": [
    "print(full_name.upper())"
   ]
  },
  {
   "cell_type": "code",
   "execution_count": 13,
   "id": "1c627b9c",
   "metadata": {},
   "outputs": [
    {
     "name": "stdout",
     "output_type": "stream",
     "text": [
      " learning python, well done, sanuba khan\n"
     ]
    }
   ],
   "source": [
    "message = f\" learning python, well done, {first_name} {last_name}\"\n",
    "print (message)"
   ]
  },
  {
   "cell_type": "code",
   "execution_count": 14,
   "id": "2cd7c5fc",
   "metadata": {},
   "outputs": [
    {
     "name": "stdout",
     "output_type": "stream",
     "text": [
      " LEARNING PYTHON, WELL DONE, SANUBA KHAN\n"
     ]
    }
   ],
   "source": [
    "print (message.upper())"
   ]
  },
  {
   "cell_type": "code",
   "execution_count": 15,
   "id": "7dd609f9",
   "metadata": {},
   "outputs": [
    {
     "name": "stdout",
     "output_type": "stream",
     "text": [
      " Learning Python, Well Done, Sanuba Khan\n"
     ]
    }
   ],
   "source": [
    "print (message.title())"
   ]
  },
  {
   "cell_type": "code",
   "execution_count": null,
   "id": "d1ce9c26",
   "metadata": {},
   "outputs": [],
   "source": []
  },
  {
   "cell_type": "code",
   "execution_count": null,
   "id": "6cb5c73f",
   "metadata": {},
   "outputs": [],
   "source": []
  },
  {
   "cell_type": "code",
   "execution_count": null,
   "id": "19a159f9",
   "metadata": {},
   "outputs": [],
   "source": [
    "# adding whitespaces to strings: \n"
   ]
  },
  {
   "cell_type": "code",
   "execution_count": null,
   "id": "a89a6c32",
   "metadata": {},
   "outputs": [],
   "source": []
  },
  {
   "cell_type": "code",
   "execution_count": 16,
   "id": "7d89f90b",
   "metadata": {},
   "outputs": [
    {
     "name": "stdout",
     "output_type": "stream",
     "text": [
      "favourite_programming_language:pythonjavac++reactjs\n"
     ]
    }
   ],
   "source": [
    "print ('favourite_programming_language:pythonjavac++reactjs')"
   ]
  },
  {
   "cell_type": "code",
   "execution_count": null,
   "id": "52a92cb8",
   "metadata": {},
   "outputs": [],
   "source": [
    "\\n -- is called as new line delimiter"
   ]
  },
  {
   "cell_type": "code",
   "execution_count": 17,
   "id": "d464e01c",
   "metadata": {},
   "outputs": [
    {
     "name": "stdout",
     "output_type": "stream",
     "text": [
      "favourite_programming_language:]\n",
      "python\n",
      "java\n",
      "c++\n",
      "reactjs\n"
     ]
    }
   ],
   "source": [
    "print ('favourite_programming_language:]\\npython\\njava\\nc++\\nreactjs')"
   ]
  },
  {
   "cell_type": "code",
   "execution_count": null,
   "id": "26acad5b",
   "metadata": {},
   "outputs": [],
   "source": [
    "\\t -- tab delimiter"
   ]
  },
  {
   "cell_type": "code",
   "execution_count": 20,
   "id": "cca5a0c0",
   "metadata": {},
   "outputs": [
    {
     "name": "stdout",
     "output_type": "stream",
     "text": [
      "favourite_programming_languages:\n",
      "\tpython\n",
      "\tjava\n",
      "\tc++\n",
      "\treactjs\n"
     ]
    }
   ],
   "source": [
    "print ('favourite_programming_languages:\\n\\tpython\\n\\tjava\\n\\tc++\\n\\treactjs')"
   ]
  },
  {
   "cell_type": "code",
   "execution_count": null,
   "id": "a541dec5",
   "metadata": {},
   "outputs": [],
   "source": []
  },
  {
   "cell_type": "code",
   "execution_count": null,
   "id": "d1a8b280",
   "metadata": {},
   "outputs": [],
   "source": [
    "Removing whitespaces from the strings:"
   ]
  },
  {
   "cell_type": "code",
   "execution_count": 21,
   "id": "18d4130e",
   "metadata": {},
   "outputs": [
    {
     "name": "stdout",
     "output_type": "stream",
     "text": [
      "python\n"
     ]
    }
   ],
   "source": [
    "name = 'python'\n",
    "print (name)"
   ]
  },
  {
   "cell_type": "code",
   "execution_count": 22,
   "id": "3b2bc3d8",
   "metadata": {},
   "outputs": [
    {
     "name": "stdout",
     "output_type": "stream",
     "text": [
      "java\n"
     ]
    }
   ],
   "source": [
    "name2 = 'java'\n",
    "print (name2)"
   ]
  },
  {
   "cell_type": "code",
   "execution_count": 23,
   "id": "6d270e0f",
   "metadata": {},
   "outputs": [
    {
     "data": {
      "text/plain": [
       "'java'"
      ]
     },
     "execution_count": 23,
     "metadata": {},
     "output_type": "execute_result"
    }
   ],
   "source": [
    "name2.lstrip()"
   ]
  },
  {
   "cell_type": "code",
   "execution_count": 24,
   "id": "2bcbe9e2",
   "metadata": {},
   "outputs": [
    {
     "data": {
      "text/plain": [
       "'python'"
      ]
     },
     "execution_count": 24,
     "metadata": {},
     "output_type": "execute_result"
    }
   ],
   "source": [
    "name.rstrip()"
   ]
  },
  {
   "cell_type": "code",
   "execution_count": 25,
   "id": "99d997bc",
   "metadata": {},
   "outputs": [
    {
     "name": "stdout",
     "output_type": "stream",
     "text": [
      "c++\n"
     ]
    }
   ],
   "source": [
    "name3 = 'c++'\n",
    "print (name3)"
   ]
  },
  {
   "cell_type": "code",
   "execution_count": 26,
   "id": "821b92dd",
   "metadata": {
    "scrolled": true
   },
   "outputs": [
    {
     "data": {
      "text/plain": [
       "'c++'"
      ]
     },
     "execution_count": 26,
     "metadata": {},
     "output_type": "execute_result"
    }
   ],
   "source": [
    "name3.rstrip()"
   ]
  },
  {
   "cell_type": "code",
   "execution_count": null,
   "id": "2aa2af7e",
   "metadata": {},
   "outputs": [],
   "source": []
  }
 ],
 "metadata": {
  "kernelspec": {
   "display_name": "Python 3 (ipykernel)",
   "language": "python",
   "name": "python3"
  },
  "language_info": {
   "codemirror_mode": {
    "name": "ipython",
    "version": 3
   },
   "file_extension": ".py",
   "mimetype": "text/x-python",
   "name": "python",
   "nbconvert_exporter": "python",
   "pygments_lexer": "ipython3",
   "version": "3.9.12"
  }
 },
 "nbformat": 4,
 "nbformat_minor": 5
}
