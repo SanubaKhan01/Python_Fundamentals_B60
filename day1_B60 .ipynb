{
 "cells": [
  {
   "cell_type": "code",
   "execution_count": 1,
   "id": "61438c8c-abd7-47de-ba91-a75a90690e74",
   "metadata": {},
   "outputs": [
    {
     "name": "stdout",
     "output_type": "stream",
     "text": [
      "hello welcome to python training\n"
     ]
    }
   ],
   "source": [
    "print (\"hello welcome to python training\")"
   ]
  },
  {
   "cell_type": "code",
   "execution_count": 2,
   "id": "41cdbb7c",
   "metadata": {},
   "outputs": [
    {
     "name": "stdout",
     "output_type": "stream",
     "text": [
      "Day1_B60\n"
     ]
    }
   ],
   "source": [
    "print (\"Day1_B60\") "
   ]
  },
  {
   "cell_type": "code",
   "execution_count": null,
   "id": "26d87b41",
   "metadata": {},
   "outputs": [],
   "source": []
  }
 ],
 "metadata": {
  "kernelspec": {
   "display_name": "Python 3 (ipykernel)",
   "language": "python",
   "name": "python3"
  },
  "language_info": {
   "codemirror_mode": {
    "name": "ipython",
    "version": 3
   },
   "file_extension": ".py",
   "mimetype": "text/x-python",
   "name": "python",
   "nbconvert_exporter": "python",
   "pygments_lexer": "ipython3",
   "version": "3.9.12"
  }
 },
 "nbformat": 4,
 "nbformat_minor": 5
}
